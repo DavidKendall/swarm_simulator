{
 "cells": [
  {
   "cell_type": "markdown",
   "metadata": {},
   "source": [
    "# Swarm simulator"
   ]
  },
  {
   "cell_type": "markdown",
   "metadata": {},
   "source": [
    "## Introduction"
   ]
  },
  {
   "cell_type": "markdown",
   "metadata": {},
   "source": [
    "A swarm comprises a set of *agents*. Each agent is defined by a number of *attributes*, including position, cohesion field, repulsion field, etc. Agent attributes will be introduced as we go along.\n",
    "\n",
    "The principal attribute of an agent is its position in 2-D Euclidean space. We can specify an agent's position as a point, using the usual Cartesian coordinates or, equivalently, as a vector whose tail is located at the origin. For example, an agent, $b1$,\n",
    "at position $(3,2)$ can be shown as:"
   ]
  },
  {
   "cell_type": "code",
   "execution_count": null,
   "metadata": {},
   "outputs": [],
   "source": [
    "\"\"\"\n",
    "Some boiler plate to assist with plotting\n",
    "\"\"\"\n",
    "%matplotlib notebook\n",
    "import matplotlib.pyplot as plt\n",
    "import plot_helper as ph\n",
    "import numpy as np\n",
    "\n",
    "\"\"\"\n",
    "Show an agent at position (3,2) as a vector and as a point.\n",
    "\n",
    "Note ph.plot_vector expects a list of points as its first argument\n",
    "and draws vectors to all of them\n",
    "\"\"\"\n",
    "b1 = np.array([3,2])\n",
    "ph.plot_vector([b1])\n",
    "plt.plot(*b1, 'ro', markersize=2)\n",
    "plt.text(3, 2.1, 'b1')"
   ]
  },
  {
   "cell_type": "markdown",
   "metadata": {},
   "source": [
    "A second agent, $b_2$, at position $(2, -1)$ can be introduced."
   ]
  },
  {
   "cell_type": "code",
   "execution_count": null,
   "metadata": {},
   "outputs": [],
   "source": [
    "b2 = np.array([2, -1])\n",
    "ph.plot_vector([b1, b2])\n",
    "plt.plot(*b1, 'ro', markersize=2)\n",
    "plt.plot(*b2, 'go', markersize=2)\n",
    "plt.text(3, 2.1, 'b1')\n",
    "plt.text(2, -1.3, 'b2')"
   ]
  },
  {
   "cell_type": "markdown",
   "metadata": {},
   "source": [
    "The vector from $b_1$ to $b_2$, denoted $\\overrightarrow{b_1 b_2}$, is the vector, $x$, such that $b_1 + x = b_2$, i.e. $x = b_2 - b_1$. "
   ]
  },
  {
   "cell_type": "code",
   "execution_count": null,
   "metadata": {},
   "outputs": [],
   "source": [
    "x = b2 - b1\n",
    "tails = np.zeros((3,2))\n",
    "tails[2] = b1\n",
    "ph.plot_vector([b1, b2, x], tails, color=[ph.darkblue, ph.darkblue, ph.pink])\n",
    "plt.plot(*b1, 'ro', markersize=2)\n",
    "plt.plot(*b2, 'go', markersize=2)\n",
    "plt.text(3, 2.1, 'b1')\n",
    "plt.text(2, -1.3, 'b2')"
   ]
  },
  {
   "cell_type": "markdown",
   "metadata": {},
   "source": [
    "Similarly, the vector from $b_2$ to $b_1$, $\\overrightarrow{b_2 b_1}$, is given by $b_1 - b_2$."
   ]
  },
  {
   "cell_type": "code",
   "execution_count": null,
   "metadata": {},
   "outputs": [],
   "source": [
    "x = b1 - b2\n",
    "tails = np.zeros((3,2))\n",
    "tails[2] = b2\n",
    "ph.plot_vector([b1, b2, x], tails, color=[ph.darkblue, ph.darkblue, ph.pink])\n",
    "plt.plot(*b1, 'ro', markersize=2)\n",
    "plt.plot(*b2, 'go', markersize=2)\n",
    "plt.text(3, 2.1, 'b1')\n",
    "plt.text(2, -1.3, 'b2')"
   ]
  },
  {
   "cell_type": "markdown",
   "metadata": {},
   "source": [
    "The *magnitude* of the vector, $\\overrightarrow{b_1 b_2}$, can be obtained be considering the line from $b_1$ to $b_2$ as the hypotenuse of a right-angled triangle whose other sides are parallel to the axes of the coordinate system. The `numpy` function `hypot`  returns the length of the hypotenuse, given the lengths of the other 2 sides, e.g. let $b_1 = (1, -2)$ and $b_2 = (4, 2)$, then the vector $\\overrightarrow{b_1 b_2}$ has the magnitude shown below."
   ]
  },
  {
   "cell_type": "code",
   "execution_count": null,
   "metadata": {},
   "outputs": [],
   "source": [
    "b1 = np.array([1, -2])\n",
    "b2 = np.array([4, 2])\n",
    "x = b2 - b1\n",
    "tails = np.zeros((3,2))\n",
    "tails[2] = b1\n",
    "ph.plot_vector([b1, b2, x], tails, color=[ph.darkblue, ph.darkblue, ph.pink])\n",
    "plt.plot(*b1, 'ro', markersize=2)\n",
    "plt.plot(*b2, 'go', markersize=2)\n",
    "plt.text(1, -2.3, 'b1')\n",
    "plt.text(4, 2.1, 'b2')\n",
    "magx = np.hypot(*(b2 - b1))\n",
    "print(f\"The magnitude of the vector from b1 to b2 is {magx}\")"
   ]
  },
  {
   "cell_type": "markdown",
   "metadata": {},
   "source": [
    "We denote the magnitude of $\\overrightarrow{b_1 b_2}$ by $\\lVert \\overrightarrow{b_1 b_2} \\rVert$."
   ]
  },
  {
   "cell_type": "markdown",
   "metadata": {},
   "source": [
    "A swarm can be represented in the simulator in a variety of ways. The goal here is to find a representation that leads to an efficient implementation of the simulator using Numpy. We'll begin by considering a representation based on a 2-D array in which each row models a single attribute for all agents and each column models all attributes for a single agent, e.g.\n",
    "\n",
    "| | b0 | b1 | ... | bn |\n",
    "|---|---|---|---|---|\n",
    "|x  |   |   |   |   |\n",
    "|y  |   |   |   |   |\n",
    "|R  |   |   |   |   |\n",
    "|C  |   |   |   |   |\n",
    "|. |   |   |   |   |\n",
    "|.  |   |   |   |   |\n",
    "|.  |   |   |   |   |\n",
    "\n",
    "This is not the most convenient representation when plotting a few agents from a small swarm but it is hoped that it allows efficient implementation of the major operations in the simulator, by taking advantage of Numpy's vectorised operators.\n",
    "\n",
    "The previous example, in this approach, would be represented as:\n",
    "\n",
    "|   | b[0] | b[1] |\n",
    "|---|---|---|\n",
    "| x | 1  | 4 |\n",
    "| y | -2 | 2 |"
   ]
  },
  {
   "cell_type": "code",
   "execution_count": null,
   "metadata": {},
   "outputs": [],
   "source": [
    "b = np.array([[1, 4], [-2, 2]])\n",
    "# x = b.T[1] - b.T[0]\n",
    "x = b[:,1] - b[:,0]\n",
    "vectors = np.append(b.T, [x], axis=0)\n",
    "tails = np.zeros_like(vectors)\n",
    "tails[2] = vectors[0]\n",
    "ph.plot_vector(vectors, tails, color=[ph.darkblue, ph.darkblue, ph.pink])\n",
    "plt.plot(*vectors[0], 'ro', markersize=2)\n",
    "plt.plot(*vectors[1], 'go', markersize=2)\n",
    "plt.text(1, -2.5, 'b[0]')\n",
    "plt.text(4, 2.2, 'b[1]')\n",
    "magx = np.hypot(*x)\n",
    "print(f\"The magnitude of the vector from b[0] to b[1] is {magx}\")"
   ]
  },
  {
   "cell_type": "markdown",
   "metadata": {},
   "source": [
    "Note that the transpose operator `b.T` is implemented very efficiently in Numpy. No array data is copied. A new instance of the metadata is created in which the strides are adjusted to achieve the transposition. The transpose operator is both a convenient and an efficient mechanism for accessing all attributes of an agent in our representation."
   ]
  },
  {
   "cell_type": "markdown",
   "metadata": {},
   "source": [
    "## Cohesion and Repulsion Fields"
   ]
  },
  {
   "cell_type": "markdown",
   "metadata": {},
   "source": [
    "Agents in a swarm have two main goals: to stay close to other agents and not to bump into other agents. The first goal involves defining a 'cohesion' field, $C_b$, for each agent $b$. The cohesion field of $b$ is specified as a circle of given radius, centred at $b$. Any agent $b'$ that is positioned within the cohesion field of $b$ inclines $b$ to move towards $b'$. The second goal involves defining a 'repulsion' field, $R_b$, in a similar manner to the definition of the cohesion field. Any agent $b'$ that is positioned within the repulsion field of $b$ inclines $b$ to move away from $b'$. Notice that an agent $b'$ that is positioned both within  $b$'s cohesion field *and* its repulsion field will cause $b$ to have conflicting inclinations: both to move towards and to move away from $b'$. The final movement of $b$ depends on the 'strength' of these inclinations.\n",
    "\n",
    "Two new rows are added to the swarm representation. One row gives the cohesion field for each agent. The other defines the repulsion field. We define a 'helper' function, `plot_field()`, to assist in the illustration of cohesion and repulsion fields."
   ]
  },
  {
   "cell_type": "code",
   "execution_count": null,
   "metadata": {},
   "outputs": [],
   "source": [
    "def plot_field(radius=1.0, fmt='b-', *, linewidth=0.5):\n",
    "    '''\n",
    "    Draw a circle of specified radius on the current axis\n",
    "    '''\n",
    "    theta = np.linspace(0, 2*np.pi, 100)\n",
    "    x1 = radius*np.cos(theta)\n",
    "    x2 = radius*np.sin(theta)\n",
    "    ax = plt.gca()\n",
    "    ax.plot(x1, x2, fmt, linewidth=linewidth)\n",
    "    ax.set_aspect(1)\n"
   ]
  },
  {
   "cell_type": "markdown",
   "metadata": {},
   "source": [
    "Now consider an agent, $b_0$, at the origin, with a repulsion field of radius 5 and a cohesion field of radius 7. This can be ilustrated as follows:"
   ]
  },
  {
   "cell_type": "code",
   "execution_count": null,
   "metadata": {},
   "outputs": [],
   "source": [
    "b = np.array([\n",
    "    [0], # x coordinate\n",
    "    [0], # y coordinate\n",
    "    [5], # repulsion field radius\n",
    "    [7]  # cohesion field radius\n",
    "])\n",
    "ph.plot_vector([], limit=11.0)               # just draw the grid - no vectors\n",
    "plot_field(b[2], 'r--')                      # draw the repulsion field of b[0]\n",
    "plot_field(b[3], 'b--')                      # draw the cohesion field of b[0]\n",
    "plt.plot(b[0], b[1], 'ko', markersize=2)     # draw the point for b[0]"
   ]
  },
  {
   "cell_type": "markdown",
   "metadata": {},
   "source": [
    "Next, introduce a 2nd agent, $b_1$, positioned at $(3, 3)$, which is within the cohesion field of $b_0$, and observe its effect on $b_0$."
   ]
  },
  {
   "cell_type": "code",
   "execution_count": null,
   "metadata": {},
   "outputs": [],
   "source": [
    "b = np.array([\n",
    "    [0, 3], # x coordinate\n",
    "    [0, 3], # y coordinate\n",
    "    [5, 5], # repulsion field radius\n",
    "    [7, 7]  # cohesion field radius\n",
    "])\n",
    "ph.plot_vector([], limit=11.0)                                  # just draw the grid - no vectors\n",
    "plot_field(b[2, 0], 'r--')                                      # draw the repulsion field of b[0]\n",
    "plot_field(b[3, 0], 'b--')                                      # draw the cohesion field of b[0]\n",
    "plt.plot(b[0], b[1], 'ko', markersize=2)                        # draw the agent points \n",
    "ph.plot_vector(b.T[:,:2], color=ph.green, newfig=False)         # draw the vector from b[0] to b[1]"
   ]
  },
  {
   "cell_type": "markdown",
   "metadata": {},
   "source": [
    "The presence of $b_1$ within the cohesion field of $b_0$ gives $b_0$ an inclination to move towards $b_1$. \n",
    "The 'strength' of the inclination is given by $\\lVert\\overrightarrow{b_0 b_1}\\rVert$. Notice also that $b_1$ lies within the repulsion field of $b_0$. This gives $b_0$ an inclination to move away from $b_1$. This is calculated as \n",
    "$(\\frac{\\lVert\\overrightarrow{b_0 b_1}\\rVert}{R_{b_0}} - 1)\\overrightarrow{b_0 b_1}$. The factor $(\\frac{\\lVert\\overrightarrow{b_0 b_1}\\rVert}{R_{b_0}} - 1)$ is used to reverse the direction, and to dampen the effect, of $\\overrightarrow{b_0 b_1}$, giving $b_0$ a 'gentle' inclination to move away from $b_1$. This can be illustrated by adding a new vector to the previous figure, as follows:"
   ]
  },
  {
   "cell_type": "code",
   "execution_count": null,
   "metadata": {},
   "outputs": [],
   "source": [
    "coh = b[:2, 1] - b[:2, 0]\n",
    "mag = np.hypot(coh.T[0], coh.T[1])\n",
    "rep = (mag / b[2,0] - 1) * coh\n",
    "ph.plot_vector([rep], color=ph.red, newfig=False)"
   ]
  },
  {
   "cell_type": "markdown",
   "metadata": {},
   "source": [
    "Notice that, at this stage, the repulsion effect is so small as to be negligible. However, observe what happens when $b_1$ approaches closer to $b_0$."
   ]
  },
  {
   "cell_type": "code",
   "execution_count": null,
   "metadata": {},
   "outputs": [],
   "source": [
    "b = np.array([\n",
    "    [0, 1], # x coordinates\n",
    "    [0, 1], # y coordinates\n",
    "    [5, 5], # repulsion field radii\n",
    "    [7, 7]  # cohesion field radii\n",
    "])\n",
    "ph.plot_vector([], limit=11.0) # just draw the grid - no vectors\n",
    "plot_field(b[2, 0], 'r--')     \n",
    "plot_field(b[3, 0], 'b--')\n",
    "plt.plot(b[0], b[1], 'ko', markersize=2)\n",
    "ph.plot_vector(b.T[:,:2], color=ph.green, newfig=False)\n",
    "coh = b.T[1, :2] - b.T[0, :2]\n",
    "mag = np.hypot(coh.T[0], coh.T[1])\n",
    "rep = (mag / b[2,0] - 1) * coh\n",
    "ph.plot_vector([rep], color=ph.red, newfig=False)"
   ]
  },
  {
   "cell_type": "markdown",
   "metadata": {},
   "source": [
    "The repulsion effect becomes stronger and the cohesion effect becomes weaker. \n",
    "\n",
    "Now consider what happens if a third agent is added to this scenario, at position $(-2, 2)$ with repulsion field $5$ and cohesion field $7$."
   ]
  },
  {
   "cell_type": "code",
   "execution_count": null,
   "metadata": {},
   "outputs": [],
   "source": [
    "b = np.array([\n",
    "    [0, 1, -2], # x coordinates\n",
    "    [0, 1, 2],  # y coordinates\n",
    "    [5, 5, 5],  # repulsion field radii\n",
    "    [7, 7, 7]   # cohesion field radii\n",
    "])\n",
    "ph.plot_vector([], limit=11.0) # just draw the grid - no vectors\n",
    "plot_field(b[2, 0], 'r--')     \n",
    "plot_field(b[3, 0], 'b--')\n",
    "plt.plot(b[0], b[1], 'ko', markersize=2)\n",
    "ph.plot_vector(b.T[:,:2], color=ph.green, newfig=False)\n",
    "x = b.T[1, :2] - b.T[0, :2]\n",
    "mag_x = np.hypot(*x)\n",
    "r = -(1 - mag_x / b[2,0]) * x\n",
    "ph.plot_vector([r], color=ph.red, newfig=False)\n",
    "x = b.T[2, :2] - b.T[0, :2]\n",
    "mag_x = np.hypot(*x)\n",
    "r = -(1 - mag_x / b[2,0]) * x\n",
    "ph.plot_vector([r], color=ph.red, newfig=False)"
   ]
  },
  {
   "cell_type": "markdown",
   "metadata": {},
   "source": [
    "Now $b_0$ experiences repulsion and cohesion effects from *both* agents within its repulsion and cohesion fields. The net repulsion (resp. cohesion) effect on $b_0$ is given by the mean of the sum of the repulsion (resp. cohesion) effects arising from $b_1$ and $b_2$, as follows:"
   ]
  },
  {
   "cell_type": "code",
   "execution_count": null,
   "metadata": {},
   "outputs": [],
   "source": [
    "b = np.array([\n",
    "    [0, 1, -2], # x coordinates\n",
    "    [0, 1, 2],  # y coordinates\n",
    "    [5, 5, 5],  # repulsion field radii\n",
    "    [7, 7, 7]   # cohesion field radii\n",
    "])\n",
    "ph.plot_vector([], limit=11.0) # just draw the grid - no vectors\n",
    "plot_field(b[2, 0], 'r--')     \n",
    "plot_field(b[3, 0], 'b--')\n",
    "plt.plot(b[0], b[1], 'ko', markersize=2)\n",
    "coh = np.empty((2, b.shape[1]))           # create an array to hold the cohesion vectors\n",
    "xv = np.subtract.outer(b[0], b[0])        # compute the pairwise difference of x values \n",
    "coh[0] = xv.sum(axis=0) / 2               # sum the x-differences and divide by the number of relevant agents\n",
    "yv = np.subtract.outer(b[1], b[1])        # compute the pairwise difference of y values\n",
    "coh[1] = yv.sum(axis=0) / 2               # sum the y-differences and divide by the number of relevant agents\n",
    "ph.plot_vector([coh.T[0]], [b.T[0,:2]], color=ph.green, newfig=False) # plot the resultant cohesion vector for agent b_0\n",
    "mag = np.hypot(coh[0], coh[1])            # compute the magnitude of the cohesion vectors\n",
    "rep = (mag / b[2] - 1) * coh              # compute the repulsion vectors\n",
    "ph.plot_vector([rep.T[0]], [b.T[0,:2]], color=ph.red, newfig=False) # plot the resultant repulsion vector for agent b_0"
   ]
  },
  {
   "cell_type": "markdown",
   "metadata": {},
   "source": [
    "Of course, agents $b_1$ and $b_2$ also experience similar effects due to the agents in their vicinity. This is shown below."
   ]
  },
  {
   "cell_type": "code",
   "execution_count": null,
   "metadata": {},
   "outputs": [],
   "source": [
    "b = np.array([\n",
    "    [0, 1, -2], # x coordinates\n",
    "    [0, 1, 2],  # y coordinates\n",
    "    [5, 5, 5],  # repulsion field radii\n",
    "    [7, 7, 7]   # cohesion field radii\n",
    "])\n",
    "ph.plot_vector([], limit=11.0) # just draw the grid - no vectors\n",
    "plot_field(b[2, 0], 'r--')     \n",
    "plot_field(b[3, 0], 'b--')\n",
    "plt.plot(b[0], b[1], 'ko', markersize=2)\n",
    "coh = np.empty((2, b.shape[1]))           # create an array to hold the cohesion vectors\n",
    "xv = np.subtract.outer(b[0], b[0])        # compute the pairwise difference of x values \n",
    "coh[0] = xv.sum(axis=0) / 2               # sum the x-differences and divide by the number of relevant agents\n",
    "# coh[0] = xv.sum(axis=0)\n",
    "yv = np.subtract.outer(b[1], b[1])        # compute the pairwise difference of y values\n",
    "coh[1] = yv.sum(axis=0) / 2               # sum the y-differences and divide by the number of relevant agents\n",
    "# coh[1] = yv.sum(axis=0)\n",
    "mag = np.hypot(coh[0], coh[1])            # compute the magnitudes\n",
    "rep = (mag / b[2] - 1) * coh              # compute the repulsion vectors\n",
    "# rep = coh * (mag / b[2] - 1)\n",
    "# coh /= 2\n",
    "# rep /= 2\n",
    "ph.plot_vector(coh.T, b.T[:,:2], color=ph.green, newfig=False) # plot the resultant cohesion vectors for all agents\n",
    "ph.plot_vector(rep.T, b.T[:,:2], color=ph.red, newfig=False) # plot the resultant repulsion vectors for all agents\n",
    "print(f\"Magnitude is {mag}\")\n",
    "print(f\"Normalised magnitude is {mag / b[2]}\")\n",
    "print(f\"Negative Normalised magnitude is {mag / b[2] - 1}\")"
   ]
  },
  {
   "cell_type": "markdown",
   "metadata": {},
   "source": [
    "The movement of each agent is influenced by the sum of its cohesion and repulsion vectors, as shown below."
   ]
  },
  {
   "cell_type": "code",
   "execution_count": null,
   "metadata": {},
   "outputs": [],
   "source": [
    "b = np.array([\n",
    "    [0, 1, -2], # x coordinates\n",
    "    [0, 1, 2],  # y coordinates\n",
    "    [5, 5, 5],  # repulsion field radii\n",
    "    [7, 7, 7]   # cohesion field radii\n",
    "])\n",
    "ph.plot_vector([], limit=11.0) # just draw the grid - no vectors\n",
    "plot_field(b[2, 0], 'r--')     \n",
    "plot_field(b[3, 0], 'b--')\n",
    "plt.plot(b[0], b[1], 'ko', markersize=2)\n",
    "coh = np.empty((2, b.shape[1]))           # create an array to hold the cohesion vectors\n",
    "xv = np.subtract.outer(b[0], b[0])        # compute the pairwise difference of x values \n",
    "coh[0] = xv.sum(axis=0)                   # sum the x-differences \n",
    "yv = np.subtract.outer(b[1], b[1])        # compute the pairwise difference of y values\n",
    "coh[1] = yv.sum(axis=0)                   # sum the y-differences\n",
    "rep = coh                                 # just for this example\n",
    "mag = np.hypot(rep[0], rep[1])            # compute the magnitude of the repulsion vectors\n",
    "rep = (mag / b[2] - 1) * rep              # scale the repulsion vectors \n",
    "coh /= 2                                  # divide by the number of agents\n",
    "rep /= 2\n",
    "resultant = coh + rep\n",
    "ph.plot_vector(resultant.T, b.T[:,:2], newfig=False) # plot the resultant repulsion vectors for all agents\n",
    "\n",
    "xv01 = xv\n",
    "yv01 = yv\n",
    "coh01 = coh\n",
    "mag01 = mag\n",
    "rep01 = rep\n",
    "res01 = resultant"
   ]
  },
  {
   "cell_type": "markdown",
   "metadata": {},
   "source": [
    "So far, we have considered only swarms in which all agents are within the cohesion and repulsion fields of each other. It is very unlikely that this will be the case in general. It is only the agents that are within the cohesion and repulsion fields of another agent that can have an effect on its behaviour. Therefore, it is important to be able to determine, for any agent, which agents are within these fields. We begin by computing the pairwise distances between agents, given a 2-D array modelling the current state of the swarm, in which row 0 gives the x-coordinates and row 1 gives the y-coordinates of each agent."
   ]
  },
  {
   "cell_type": "code",
   "execution_count": null,
   "metadata": {},
   "outputs": [],
   "source": [
    "def distance(a):\n",
    "    '''\n",
    "    np.subract.outer is used to compute the x-differences and y-differences.\n",
    "    np.hypot computes the distance based on these values\n",
    "    \n",
    "    @param a - the 2-D array modelling the state of the swarm\n",
    "    '''\n",
    "    return np.hypot(np.subtract.outer(a[0], a[0]), np.subtract.outer(a[1], a[1]))"
   ]
  },
  {
   "cell_type": "code",
   "execution_count": null,
   "metadata": {},
   "outputs": [],
   "source": [
    "# create an array of 10 agents. b_0 is located at the origin, the other\n",
    "# 9 agents are placed randomly. Repulsion field is 5 and cohesion field is 7\n",
    "# for all agents\n",
    "b = np.empty((4,10))\n",
    "b[:2,:] = (np.random.uniform(size=20) * 20 -10).reshape(2,10)\n",
    "b[:2,0] = 0.0\n",
    "b[2,:] = np.full(10, 5.0)\n",
    "b[3,:] = np.full(10, 7.0)\n",
    "\n",
    "# plot the grid and the fields for b_0\n",
    "ph.plot_vector([], limit=11.0) # just draw the grid - no vectors\n",
    "plot_field(b[2, 0], 'r--')     \n",
    "plot_field(b[3, 0], 'b--')\n",
    "\n",
    "# compute all pairwise distances\n",
    "d = distance(b)\n",
    "\n",
    "# compute the repulsion neighbours\n",
    "rep_n = d <= b[2]\n",
    "np.fill_diagonal(rep_n, False) # no agent is a repulsion neighbour of itself\n",
    "\n",
    "# compute the cohesion neighbours\n",
    "coh_n = d <= b[3]\n",
    "np.fill_diagonal(coh_n, False) # no agent is a cohesion neighbour of itself\n",
    "\n",
    "# compute the set of nodes that are neither repulsion nor cohesion neighbours \n",
    "# ...just needed for plotting\n",
    "coh_no = np.logical_and(coh_n, np.logical_not(rep_n))\n",
    "nnbr = np.logical_not(np.logical_or(rep_n, coh_n))\n",
    "\n",
    "# plot the agents on the grid\n",
    "plt.plot(b[0, rep_n[0]], b[1, rep_n[0]], 'ro', markersize=2)\n",
    "plt.plot(b[0, coh_no[0]], b[1, coh_no[0]], 'bo', markersize=2)\n",
    "plt.plot(b[0, nnbr[0]], b[1, nnbr[0]], 'ko', markersize=2)"
   ]
  },
  {
   "cell_type": "code",
   "execution_count": null,
   "metadata": {},
   "outputs": [],
   "source": [
    "# create an array of 10 agents. b_0 is located at the origin, the other\n",
    "# 9 agents are placed randomly. Repulsion field is 5 and cohesion field is 7\n",
    "# for all agents\n",
    "b = np.empty((4,10))\n",
    "b[:2,:] = (np.random.uniform(size=20) * 20 -10).reshape(2,10)\n",
    "b[:2,0] = 0.0\n",
    "b[2,:] = np.full(10, 5.0)\n",
    "b[3,:] = np.full(10, 7.0)\n",
    "\n",
    "# b = np.array([\n",
    "#     [0.0, 1.0, -2.0], # x coordinates\n",
    "#     [0.0, 1.0, 2.0],  # y coordinates\n",
    "#     [5.0, 5.0, 5.0],  # repulsion field radii\n",
    "#     [7.0, 7.0, 7.0]   # cohesion field radii\n",
    "# ])\n",
    "\n",
    "# plot the grid and the fields for b_0\n",
    "ph.plot_vector([], limit=11.0) # just draw the grid - no vectors\n",
    "plot_field(b[2, 0], 'r--')     \n",
    "plot_field(b[3, 0], 'b--')\n",
    "\n",
    "# compute all pairwise distances\n",
    "d = distance(b)\n",
    "\n",
    "# compute the repulsion neighbours\n",
    "rep_n = d <= b[2]\n",
    "np.fill_diagonal(rep_n, False)     # no agent is a repulsion neighbour of itself\n",
    "nr_rep_n = np.sum(rep_n, axis = 0) # number of repulsion neighbours\n",
    "\n",
    "# compute the cohesion neighbours\n",
    "coh_n = d <= b[3]\n",
    "np.fill_diagonal(coh_n, False)     # no agent is a cohesion neighbour of itself\n",
    "nr_coh_n = np.sum(coh_n, axis = 0) # number of cohesion neighbours\n",
    "\n",
    "# compute the set of nodes that are neither repulsion nor cohesion neighbours \n",
    "# ...just needed for plotting\n",
    "coh_no = np.logical_and(coh_n, np.logical_not(rep_n))\n",
    "nnbr = np.logical_not(np.logical_or(rep_n, coh_n))\n",
    "\n",
    "# plot the agents on the grid\n",
    "plt.plot(b[0, rep_n[0]], b[1, rep_n[0]], 'ro', markersize=2)\n",
    "plt.plot(b[0, coh_no[0]], b[1, coh_no[0]], 'bo', markersize=2)\n",
    "plt.plot(b[0, nnbr[0]], b[1, nnbr[0]], 'ko', markersize=2)\n",
    "\n",
    "# compute the x-differences for cohesion vectors\n",
    "xv_coh = b[np.newaxis, 0, :].T.repeat(b.shape[1], axis = 1)\n",
    "xv_coh[np.logical_not(coh_n)] = 0.0\n",
    "np.subtract.at(xv_coh , coh_n, b[np.newaxis, 0].repeat(b.shape[1], axis=0)[coh_n])\n",
    "\n",
    "#compute the y-differences for cohesion vectors\n",
    "yv_coh = b[np.newaxis, 1, :].T.repeat(b.shape[1], axis = 1)\n",
    "yv_coh[np.logical_not(coh_n)] = 0.0\n",
    "np.subtract.at(yv_coh , coh_n, b[np.newaxis, 1].repeat(b.shape[1], axis=0)[coh_n])\n",
    "\n",
    "# compute the cohesion vectors\n",
    "coh = np.empty((2, b.shape[1])) \n",
    "coh[0] = xv_coh.sum(axis=0)                     # sum the x-differences \n",
    "coh[1] = yv_coh.sum(axis=0)                     # sum the y-differences\n",
    "coh /= np.maximum(nr_coh_n, 1.0)                # divide by the number of cohesion neighbours\n",
    "\n",
    "# compute the x-differences for repulsion vectors\n",
    "xv_rep = b[np.newaxis, 0, :].T.repeat(b.shape[1], axis = 1)\n",
    "xv_rep[np.logical_not(rep_n)] = 0.0\n",
    "np.subtract.at(xv_rep , rep_n, b[np.newaxis, 0].repeat(b.shape[1], axis=0)[rep_n])\n",
    "\n",
    "#compute the y-differences for repulsion vectors\n",
    "yv_rep = b[np.newaxis, 1, :].T.repeat(b.shape[1], axis = 1)\n",
    "yv_rep[np.logical_not(rep_n)] = 0.0\n",
    "np.subtract.at(yv_rep , rep_n, b[np.newaxis, 1].repeat(b.shape[1], axis=0)[rep_n])\n",
    "\n",
    "# compute the pairwise magnitudes of differences and scale\n",
    "mag = np.hypot(xv_rep, yv_rep)\n",
    "xv_rep *= (mag / b[2] - 1) / np.maximum(nr_rep_n, 1.0)\n",
    "yv_rep *= (mag / b[2] - 1) / np.maximum(nr_rep_n, 1.0)\n",
    "\n",
    "# compute the repulsion vectors\n",
    "rep = np.empty((2, b.shape[1])) \n",
    "rep[0] = xv_rep.sum(axis=0)                   # sum the x-differences \n",
    "rep[1] = yv_rep.sum(axis=0)                   # sum the y-differences\n",
    "                              \n",
    "resultant = coh + rep\n",
    "\n",
    "# ph.plot_vector(resultant.T, b.T[:,:2], newfig=False) # plot the resultant vectors for all agents\n",
    "ph.plot_vector(coh.T, b.T[:,:2], color=ph.green, newfig=False) # plot the resultant cohesion vectors for all agents\n",
    "ph.plot_vector(rep.T, b.T[:,:2], color=ph.red, newfig=False) # plot the resultant repulsion vectors for all agents"
   ]
  },
  {
   "cell_type": "code",
   "execution_count": null,
   "metadata": {},
   "outputs": [],
   "source": [
    "def mk_rand_swarm(n, *, rf=5, cf=7, grid=10):\n",
    "    '''\n",
    "    create an array of n agents. b_0 is located at the origin, the other\n",
    "    n - 1 agents are placed randomly. Repulsion field default is 5. \n",
    "    Cohesion field default is 7\n",
    "    '''\n",
    "    b = np.empty((4, n))\n",
    "    b[:2,:] = (np.random.uniform(size=2 * n) * 2 * grid - grid).reshape(2, n)\n",
    "    b[:2,0] = 0.0\n",
    "    b[2,:] = np.full(n, rf)\n",
    "    b[3,:] = np.full(n, cf)\n",
    "    return b\n",
    "\n",
    "# b = np.array([\n",
    "#     [0.0, 1.0, -2.0], # x coordinates\n",
    "#     [0.0, 1.0, 2.0],  # y coordinates\n",
    "#     [5.0, 5.0, 5.0],  # repulsion field radii\n",
    "#     [7.0, 7.0, 7.0]   # cohesion field radii\n",
    "# ])\n",
    "\n",
    "# b = np.array([\n",
    "#     [0.0, 2.0],       # x coordinates\n",
    "#     [0.0, 2.0],       # y coordinates\n",
    "#     [5.0, 5.0],       # repulsion field radii\n",
    "#     [7.0, 7.0]        # cohesion field radii\n",
    "# ])\n",
    "# b = np.array([\n",
    "#     [0.0, 1.0, -2.0],       # x coordinates\n",
    "#     [0.0, 1.0, 2.0],       # y coordinates\n",
    "#     [5.0, 5.0, 5.0],       # repulsion field radii\n",
    "#     [7.0, 7.0, 7.0]        # cohesion field radii\n",
    "# ])\n",
    "b = np.array([\n",
    "    [0.0, 1.0, -2.0, 2.0],       # x coordinates\n",
    "    [0.0, 1.0, 2.0, 6.0],       # y coordinates\n",
    "    [2.0, 2.0, 2.0, 2.0],       # repulsion field radii\n",
    "    [10.0, 10.0, 10.0, 10.0]        # cohesion field radii\n",
    "])\n",
    "\n",
    "# create a random swarm\n",
    "# b = mk_rand_swarm(10, rf=9.0, cf=10.0)\n",
    "\n",
    "xv = np.subtract.outer(b[0], b[0])  # all pairs x-differences\n",
    "yv = np.subtract.outer(b[1], b[1])  # all pairs y-differences\n",
    "\n",
    "# compute all pairwise vector magnitudes\n",
    "mag = np.hypot(xv, yv)              # all pairs magnitudes\n",
    "\n",
    "# compute the repulsion neighbours\n",
    "rep_n = mag <= b[2]\n",
    "np.fill_diagonal(rep_n, False)     # no agent is a repulsion neighbour of itself\n",
    "nr_rep_n = np.sum(rep_n, axis = 0) # number of repulsion neighbours\n",
    "\n",
    "# compute the cohesion neighbours\n",
    "coh_n = mag <= b[3]\n",
    "np.fill_diagonal(coh_n, False)     # no agent is a cohesion neighbour of itself\n",
    "nr_coh_n = np.sum(coh_n, axis = 0) # number of cohesion neighbours\n",
    "\n",
    "# compute the x-differences for cohesion vectors\n",
    "xv_coh = np.zeros_like(xv)\n",
    "xv_coh[coh_n] = xv[coh_n]\n",
    "\n",
    "#compute the y-differences for cohesion vectors\n",
    "yv_coh = np.zeros_like(yv)\n",
    "yv_coh[coh_n] = yv[coh_n]\n",
    "\n",
    "# compute the cohesion vectors\n",
    "coh = np.empty((2, b.shape[1])) \n",
    "coh[0] = xv_coh.sum(axis=0)                     # sum the x-differences \n",
    "coh[1] = yv_coh.sum(axis=0)                     # sum the y-differences\n",
    "coh /= np.maximum(nr_coh_n, 1)                  # divide by the number of cohesion neighbours\n",
    "\n",
    "# compute the x-differences for repulsion vectors\n",
    "xv_rep = np.zeros_like(xv)\n",
    "xv_rep[rep_n] = xv[rep_n]\n",
    "\n",
    "#compute the y-differences for repulsion vectors\n",
    "yv_rep = np.zeros_like(yv)\n",
    "yv_rep[rep_n] = yv[rep_n]\n",
    "\n",
    "# normalise the x and y differences for repulsion vectors\n",
    "np.divide.at(xv_rep, rep_n, mag[rep_n])\n",
    "np.divide.at(yv_rep, rep_n, mag[rep_n])\n",
    "\n",
    "# scale and reverse the repulsion vectors\n",
    "# xv_rep *= (mag / b[2] - b[2])\n",
    "# yv_rep *= (mag / b[2] - b[2]) \n",
    "np.multiply.at(xv_rep, rep_n, (mag / b[2] - b[2])[rep_n])\n",
    "np.multiply.at(yv_rep, rep_n, (mag / b[2] - b[2])[rep_n])\n",
    "\n",
    "# compute the repulsion vectors\n",
    "rep = np.empty((2, b.shape[1])) \n",
    "rep[0] = xv_rep.sum(axis=0)                   # sum the x-differences \n",
    "rep[1] = yv_rep.sum(axis=0)                   # sum the y-differences\n",
    "rep /= np.maximum(nr_rep_n, 1)                # divide by the number of repulsion neighbours\n",
    "\n",
    "# compute the resultant of the cohesion and repulsion vectors\n",
    "resultant = coh + rep\n",
    "\n",
    "# compute the set of nodes that are neither repulsion nor cohesion neighbours \n",
    "# ...just needed for plotting\n",
    "coh_no = np.logical_and(coh_n, np.logical_not(rep_n))\n",
    "nnbr = np.logical_not(np.logical_or(rep_n, coh_n))\n",
    "\n",
    "# plot the grid and the fields for b_0\n",
    "ph.plot_vector([], limit=11.0) # just draw the grid - no vectors\n",
    "plot_field(b[2, 0], 'r--')     \n",
    "plot_field(b[3, 0], 'b--')\n",
    "\n",
    "# plot the agents on the grid\n",
    "plt.plot(b[0, rep_n[0]], b[1, rep_n[0]], 'ro', markersize=2)\n",
    "plt.plot(b[0, coh_no[0]], b[1, coh_no[0]], 'bo', markersize=2)\n",
    "plt.plot(b[0, nnbr[0]], b[1, nnbr[0]], 'ko', markersize=2)\n",
    "\n",
    "# plot the vectors\n",
    "ph.plot_vector(resultant.T, b.T[:,:2], newfig=False) # plot the resultant vectors for all agents\n",
    "# ph.plot_vector(coh.T, b.T[:,:2], color=ph.green, newfig=False) # plot the resultant cohesion vectors for all agents\n",
    "# ph.plot_vector(rep.T, b.T[:,:2], color=ph.red, newfig=False) # plot the resultant repulsion vectors for all agents"
   ]
  },
  {
   "cell_type": "code",
   "execution_count": null,
   "metadata": {},
   "outputs": [],
   "source": []
  }
 ],
 "metadata": {
  "kernelspec": {
   "display_name": "Python 3",
   "language": "python",
   "name": "python3"
  },
  "language_info": {
   "codemirror_mode": {
    "name": "ipython",
    "version": 3
   },
   "file_extension": ".py",
   "mimetype": "text/x-python",
   "name": "python",
   "nbconvert_exporter": "python",
   "pygments_lexer": "ipython3",
   "version": "3.7.4"
  }
 },
 "nbformat": 4,
 "nbformat_minor": 2
}
